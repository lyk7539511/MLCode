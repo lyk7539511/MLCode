{
 "cells": [
  {
   "cell_type": "code",
   "execution_count": 136,
   "metadata": {},
   "outputs": [
    {
     "name": "stdout",
     "output_type": "stream",
     "text": [
      "\t[Info] train data= 60000\n",
      "\t[Info] test  data= 10000\n"
     ]
    }
   ],
   "source": [
    "import numpy as np  \n",
    "import pandas as pd  \n",
    "from keras.utils import np_utils  # 用來後續將 label 標籤轉為 one-hot-encoding  \n",
    "from keras.datasets import mnist    \n",
    "np.random.seed(10)  \n",
    "\n",
    "(X_train_image, y_train_label), (X_test_image, y_test_label) = mnist.load_data()  \n",
    "print(\"\\t[Info] train data=\",len(X_train_image))  \n",
    "print(\"\\t[Info] test  data=\",len(X_test_image))  "
   ]
  },
  {
   "cell_type": "code",
   "execution_count": 137,
   "metadata": {},
   "outputs": [
    {
     "name": "stdout",
     "output_type": "stream",
     "text": [
      "\t[Info] Shape of train data=(60000, 28, 28)\n",
      "\t[Info] Shape of train label=(60000,)\n"
     ]
    }
   ],
   "source": [
    "print(\"\\t[Info] Shape of train data=%s\" % (str(X_train_image.shape)))  \n",
    "print(\"\\t[Info] Shape of train label=%s\" % (str(y_train_label.shape)))  \n",
    "#訓練資料是由 images 與 labels 所組成共有 60,000 筆, 每一筆代表某個數字的影像為 28x28 pixels."
   ]
  },
  {
   "cell_type": "code",
   "execution_count": 138,
   "metadata": {
    "collapsed": true
   },
   "outputs": [],
   "source": [
    "import matplotlib.pyplot as plt  \n",
    "def plot_image(image):  \n",
    "    fig = plt.gcf()  \n",
    "    fig.set_size_inches(2,2)  \n",
    "    plt.imshow(image, cmap='binary') # cmap='binary' 參數設定以黑白灰階顯示.  \n",
    "    plt.show()  "
   ]
  },
  {
   "cell_type": "code",
   "execution_count": 139,
   "metadata": {},
   "outputs": [
    {
     "data": {
      "image/png": "[encoded data removed]",
      "text/plain": [
       "<matplotlib.figure.Figure at 0x2b00204d1d0>"
      ]
     },
     "metadata": {},
     "output_type": "display_data"
    }
   ],
   "source": [
    " plot_image(X_train_image[0])"
   ]
  },
  {
   "cell_type": "code",
   "execution_count": 140,
   "metadata": {},
   "outputs": [
    {
     "data": {
      "text/plain": [
       "5"
      ]
     },
     "execution_count": 140,
     "metadata": {},
     "output_type": "execute_result"
    }
   ],
   "source": [
    "y_train_label[0]"
   ]
  },
  {
   "cell_type": "code",
   "execution_count": 171,
   "metadata": {
    "collapsed": true
   },
   "outputs": [],
   "source": [
    "#建立 plot_images_labels_predict 函數, 可以顯示多筆資料的影像與 label. \n",
    "def plot_images_labels_predict(images, labels, prediction, idx, num=10):  \n",
    "    fig = plt.gcf()  \n",
    "    fig.set_size_inches(12, 14) \n",
    "    if num > 25: \n",
    "        num = 25  \n",
    "    for i in range(0, num):  \n",
    "        ax=plt.subplot(5,5, 1+i)  \n",
    "        ax.imshow(images[idx], cmap='binary')  \n",
    "        title = \"l=\" + str(labels[idx])  \n",
    "        if len(prediction) > 0: \n",
    "            \n",
    "            title = \"l={},p={}\".format(str(labels[idx]), str(prediction[idx]))  \n",
    "        else:  \n",
    "            title = \"l={}\".format(str(labels[idx]))  \n",
    "        ax.set_title(title, fontsize=10)  \n",
    "        ax.set_xticks([]); ax.set_yticks([])  \n",
    "        idx+=1 \n",
    "    plt.show() \n",
    "   "
   ]
  },
  {
   "cell_type": "code",
   "execution_count": 172,
   "metadata": {},
   "outputs": [
    {
     "data": {
      "image/png": "[encoded data removed]",
      "text/plain": [
       "<matplotlib.figure.Figure at 0x2b006919128>"
      ]
     },
     "metadata": {},
     "output_type": "display_data"
    }
   ],
   "source": [
    "#查看test dataset前十筆圖片：因為目前我們還沒有預測值，所以prediction傳入空陣列[]\n",
    "plot_images_labels_predict(X_train_image, y_train_label, [], 0, 10)"
   ]
  },
  {
   "cell_type": "code",
   "execution_count": 8,
   "metadata": {},
   "outputs": [
    {
     "name": "stdout",
     "output_type": "stream",
     "text": [
      "\t[Info] xTrain: (60000, 784)\n",
      "\t[Info] xTest: (10000, 784)\n"
     ]
    }
   ],
   "source": [
    "#首先將 image 以 reshape 轉換為二維 ndarray 並進行 normalization (Feature scaling)\n",
    "x_Train = X_train_image.reshape(60000, 28*28).astype('float32')  \n",
    "x_Test = X_test_image.reshape(10000, 28*28).astype('float32')  \n",
    "print(\"\\t[Info] xTrain: %s\" % (str(x_Train.shape)))  \n",
    "print(\"\\t[Info] xTest: %s\" % (str(x_Test.shape)))  \n",
    "  \n",
    "#每個像素是0-255的值，首先做一下歸一化，將所有值除以255，得到一個0-1的值\n",
    "x_Train_norm = x_Train/255  \n",
    "x_Test_norm = x_Test/255  "
   ]
  },
  {
   "cell_type": "code",
   "execution_count": 326,
   "metadata": {},
   "outputs": [
    {
     "name": "stdout",
     "output_type": "stream",
     "text": [
      "\t[Info] Model summary:\n",
      "_________________________________________________________________\n",
      "Layer (type)                 Output Shape              Param #   \n",
      "=================================================================\n",
      "dense_61 (Dense)             (None, 100)               78500     \n",
      "_________________________________________________________________\n",
      "dense_62 (Dense)             (None, 150)               15150     \n",
      "_________________________________________________________________\n",
      "dense_63 (Dense)             (None, 150)               22650     \n",
      "_________________________________________________________________\n",
      "dense_64 (Dense)             (None, 10)                1510      \n",
      "=================================================================\n",
      "Total params: 117,810\n",
      "Trainable params: 117,810\n",
      "Non-trainable params: 0\n",
      "_________________________________________________________________\n",
      "\n"
     ]
    }
   ],
   "source": [
    "from keras.models import Sequential  \n",
    "from keras.layers import Dense  \n",
    "  \n",
    "model = Sequential()  # Build Linear Model  \n",
    "#normal 使用常態分的亂數來初始化weight權重及bias偏差。\n",
    "model.add(Dense(units=100, input_dim=784, kernel_initializer='normal', activation='sigmoid')) # Add Input/hidden layer  \n",
    "model.add(Dense(units=150,kernel_initializer='normal', activation='sigmoid'))# Add hidden layer \n",
    "model.add(Dense(units=150,kernel_initializer='normal', activation='sigmoid'))# Add hidden layer \n",
    "model.add(Dense(units=10, kernel_initializer='normal', activation='softmax')) # Add Hidden/output layer  \n",
    "print(\"\\t[Info] Model summary:\")  \n",
    "model.summary()  \n",
    "print(\"\")  \n",
    "#Param是超參數Hyper-Parameters，指由這層神經元所產生的參數\n",
    "#Y=activation(X x W + b) 即輸出=激活函數(輸入 x 權重 + 偏差)。"
   ]
  },
  {
   "cell_type": "code",
   "execution_count": 327,
   "metadata": {},
   "outputs": [
    {
     "data": {
      "text/plain": [
       "5"
      ]
     },
     "execution_count": 327,
     "metadata": {},
     "output_type": "execute_result"
    }
   ],
   "source": [
    "y_TrainOneHot = np_utils.to_categorical(y_train_label)#將 training 的 label 進行 one-hot encoding\n",
    "y_TestOneHot = np_utils.to_categorical(y_test_label) #將測試的 labels 進行 one-hot encoding\n",
    "y_train_label[0] #檢視 training labels 第一個 label 的值\n"
   ]
  },
  {
   "cell_type": "code",
   "execution_count": 328,
   "metadata": {},
   "outputs": [
    {
     "data": {
      "text/plain": [
       "array([[ 0.,  0.,  0.,  0.,  0.,  1.,  0.,  0.,  0.,  0.]])"
      ]
     },
     "execution_count": 328,
     "metadata": {},
     "output_type": "execute_result"
    }
   ],
   "source": [
    "y_TrainOneHot[:1]#檢視第一個 label 在 one-hot encoding 後的結果, 會在第六個位置上為 1, 其他位置上為 0"
   ]
  },
  {
   "cell_type": "code",
   "execution_count": 329,
   "metadata": {
    "collapsed": true
   },
   "outputs": [],
   "source": [
    "#在訓練模型之前, 我們必須先使用 compile 方法, 對訓練模型進行設定\n",
    "#loss: 設定 loss function, 在深度學習通常使用 cross_entropy (Cross entropy) 交叉摘順練效果較好.\n",
    "#optimizer: 設定訓練時的優化方法sgd\n",
    "#metrics: 設定評估模型的方式是 accuracy (準確率)\n",
    "model.compile(loss='categorical_crossentropy', optimizer='sgd', metrics=['accuracy'])  "
   ]
  },
  {
   "cell_type": "code",
   "execution_count": 330,
   "metadata": {},
   "outputs": [
    {
     "name": "stdout",
     "output_type": "stream",
     "text": [
      "Train on 48000 samples, validate on 12000 samples\n",
      "Epoch 1/10\n",
      " - 2s - loss: 2.3039 - acc: 0.1098 - val_loss: 2.3018 - val_acc: 0.1060\n",
      "Epoch 2/10\n",
      " - 1s - loss: 2.3010 - acc: 0.1138 - val_loss: 2.3024 - val_acc: 0.1060\n",
      "Epoch 3/10\n",
      " - 1s - loss: 2.3011 - acc: 0.1136 - val_loss: 2.3020 - val_acc: 0.1060\n",
      "Epoch 4/10\n",
      " - 1s - loss: 2.3011 - acc: 0.1143 - val_loss: 2.3019 - val_acc: 0.1060\n",
      "Epoch 5/10\n",
      " - 1s - loss: 2.3010 - acc: 0.1142 - val_loss: 2.3020 - val_acc: 0.1060\n",
      "Epoch 6/10\n",
      " - 1s - loss: 2.3009 - acc: 0.1140 - val_loss: 2.3013 - val_acc: 0.1060\n",
      "Epoch 7/10\n",
      " - 1s - loss: 2.3006 - acc: 0.1149 - val_loss: 2.3022 - val_acc: 0.1060\n",
      "Epoch 8/10\n",
      " - 1s - loss: 2.3007 - acc: 0.1144 - val_loss: 2.3017 - val_acc: 0.1060\n",
      "Epoch 9/10\n",
      " - 1s - loss: 2.3005 - acc: 0.1135 - val_loss: 2.3021 - val_acc: 0.1060\n",
      "Epoch 10/10\n",
      " - 1s - loss: 2.3006 - acc: 0.1138 - val_loss: 2.3013 - val_acc: 0.1060\n"
     ]
    }
   ],
   "source": [
    "train_history = model.fit(x=x_Train_norm, y=y_TrainOneHot, validation_split=0.2, epochs=10, batch_size=200, verbose=2)\n",
    "#x=x_Train_norm: features 數字的影像特徵值 (60,000 x 784 的陣列).\n",
    "#y=y_Train_OneHot: label 數字的 One-hot encoding 陣列 (60,000 x 10 的陣列)\n",
    "#validation_split = 0.2: 設定訓練資料與 cross validation 的資料比率.\n",
    "#也就是說會有 0.8 * 60,000 = 48,000 作為訓練資料; 0.2 * 60,000 = 12,000 作為驗證資料.\n",
    "#epochs = 10: 執行 10 次的訓練週期.\n",
    "#batch_size = 200: 每一批次的訓練筆數為 200\n",
    "#verbose = 2: 顯示訓練過程. 共執行 10 次 epoch (訓練週期), 每批 200 筆, \n",
    "#也就是每次會有 240 round (48,000 / 200 = 240). 每一次的 epoch 會計算 accuracy 並記錄在 train_history 中."
   ]
  },
  {
   "cell_type": "code",
   "execution_count": 331,
   "metadata": {
    "collapsed": true
   },
   "outputs": [],
   "source": [
    "import matplotlib.pyplot as plt  \n",
    "def show_train_history(train_history, train, validation):  \n",
    "    plt.plot(train_history.history[train])  \n",
    "    plt.plot(train_history.history[validation])  \n",
    "    plt.title('Train History')  \n",
    "    plt.ylabel(train)  \n",
    "    plt.xlabel('Epoch')  \n",
    "    plt.legend(['train', 'validation'], loc='upper left')  \n",
    "    plt.show()  "
   ]
  },
  {
   "cell_type": "code",
   "execution_count": 332,
   "metadata": {},
   "outputs": [
    {
     "data": {
      "image/png": "[encoded data removed]",
      "text/plain": [
       "<matplotlib.figure.Figure at 0x2b01fe5a080>"
      ]
     },
     "metadata": {},
     "output_type": "display_data"
    }
   ],
   "source": [
    "show_train_history(train_history, 'acc', 'val_acc') \n",
    "#如果 \"acc 訓練的準確率\" 一直提升, 但是 \"val_acc 的準確率\" 卻一直沒有增加, 就有可能是 Overfitting 的現象"
   ]
  },
  {
   "cell_type": "code",
   "execution_count": 333,
   "metadata": {},
   "outputs": [
    {
     "data": {
      "image/png": "[encoded data removed]",
      "text/plain": [
       "<matplotlib.figure.Figure at 0x2b01fe8b080>"
      ]
     },
     "metadata": {},
     "output_type": "display_data"
    }
   ],
   "source": [
    "show_train_history(train_history, 'loss', 'val_loss')  "
   ]
  },
  {
   "cell_type": "code",
   "execution_count": 334,
   "metadata": {},
   "outputs": [
    {
     "name": "stdout",
     "output_type": "stream",
     "text": [
      "10000/10000 [==============================] - 0s 46us/step\n",
      "\n",
      "\t[Info] Accuracy of testing data = 11.3%\n"
     ]
    }
   ],
   "source": [
    "scores = model.evaluate(x_Test_norm, y_TestOneHot)  \n",
    "print()  \n",
    "print(\"\\t[Info] Accuracy of testing data = {:2.1f}%\".format(scores[1]*100.0))  "
   ]
  },
  {
   "cell_type": "code",
   "execution_count": 335,
   "metadata": {},
   "outputs": [
    {
     "name": "stdout",
     "output_type": "stream",
     "text": [
      "\t[Info] Making prediction to x_Test_norm\n",
      "\n",
      "\t[Info] Show 10 prediction result (From 240):\n",
      "[1 1 1 1 1 1 1 1 1 1]\n",
      "\n"
     ]
    },
    {
     "data": {
      "image/png": "[encoded data removed]",
      "text/plain": [
       "<matplotlib.figure.Figure at 0x2b01fe5e208>"
      ]
     },
     "metadata": {},
     "output_type": "display_data"
    }
   ],
   "source": [
    "print(\"\\t[Info] Making prediction to x_Test_norm\")  \n",
    "prediction = model.predict_classes(x_Test_norm)  # Making prediction and save result to prediction  \n",
    "print()  \n",
    "print(\"\\t[Info] Show 10 prediction result (From 240):\")  \n",
    "print(\"%s\\n\" % (prediction[240:250]))  \n",
    "  \n",
    "plot_images_labels_predict(X_test_image, y_test_label, prediction, idx=240)  "
   ]
  },
  {
   "cell_type": "code",
   "execution_count": 336,
   "metadata": {},
   "outputs": [
    {
     "name": "stdout",
     "output_type": "stream",
     "text": [
      "\t[Info] Display Confusion Matrix:\n",
      "predict     1\n",
      "label        \n",
      "0         980\n",
      "1        1135\n",
      "2        1032\n",
      "3        1010\n",
      "4         982\n",
      "5         892\n",
      "6         958\n",
      "7        1028\n",
      "8         974\n",
      "9        1009\n",
      "\n"
     ]
    }
   ],
   "source": [
    "print(\"\\t[Info] Display Confusion Matrix:\")  \n",
    "import pandas as pd  \n",
    "print(\"%s\\n\" % pd.crosstab(y_test_label, prediction, rownames=['label'], colnames=['predict']))   \n"
   ]
  },
  {
   "cell_type": "code",
   "execution_count": null,
   "metadata": {
    "collapsed": true
   },
   "outputs": [],
   "source": []
  },
  {
   "cell_type": "code",
   "execution_count": null,
   "metadata": {
    "collapsed": true
   },
   "outputs": [],
   "source": []
  }
 ],
 "metadata": {
  "kernelspec": {
   "display_name": "Python 3",
   "language": "python",
   "name": "python3"
  },
  "language_info": {
   "codemirror_mode": {
    "name": "ipython",
    "version": 3
   },
   "file_extension": ".py",
   "mimetype": "text/x-python",
   "name": "python",
   "nbconvert_exporter": "python",
   "pygments_lexer": "ipython3",
   "version": "3.5.4"
  }
 },
 "nbformat": 4,
 "nbformat_minor": 2
}
