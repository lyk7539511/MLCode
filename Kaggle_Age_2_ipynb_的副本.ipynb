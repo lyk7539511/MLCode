{
  "nbformat": 4,
  "nbformat_minor": 0,
  "metadata": {
    "colab": {
      "name": "Kaggle_Age_2.ipynb 的副本",
      "version": "0.3.2",
      "provenance": [],
      "collapsed_sections": []
    },
    "kernelspec": {
      "name": "python3",
      "display_name": "Python 3"
    },
    "accelerator": "GPU"
  },
  "cells": [
    {
      "metadata": {
        "id": "kNNaC02ZCDdd",
        "colab_type": "code",
        "outputId": "8e93fc6f-b207-4a80-9410-9960264031b3",
        "colab": {
          "base_uri": "https://localhost:8080/",
          "height": 106
        }
      },
      "cell_type": "code",
      "source": [
        "!apt-get install -y -qq software-properties-common python-software-properties module-init-tools\n",
        "!add-apt-repository -y ppa:alessandro-strada/ppa 2>&1 > /dev/null\n",
        "!apt-get update -qq 2>&1 > /dev/null\n",
        "!apt-get -y install -qq google-drive-ocamlfuse fuse\n",
        "from google.colab import auth\n",
        "auth.authenticate_user()\n",
        "from oauth2client.client import GoogleCredentials\n",
        "creds = GoogleCredentials.get_application_default()\n",
        "import getpass\n",
        "!google-drive-ocamlfuse -headless -id={creds.client_id} -secret={creds.client_secret} < /dev/null 2>&1 | grep URL\n",
        "vcode = getpass.getpass()\n",
        "!echo {vcode} | google-drive-ocamlfuse -headless -id={creds.client_id} -secret={creds.client_secret}"
      ],
      "execution_count": 0,
      "outputs": [
        {
          "output_type": "stream",
          "text": [
            "Please, open the following URL in a web browser: https://accounts.google.com/o/oauth2/auth?client_id=32555940559.apps.googleusercontent.com&redirect_uri=urn%3Aietf%3Awg%3Aoauth%3A2.0%3Aoob&scope=https%3A%2F%2Fwww.googleapis.com%2Fauth%2Fdrive&response_type=code&access_type=offline&approval_prompt=force\r\n",
            "··········\n",
            "Please, open the following URL in a web browser: https://accounts.google.com/o/oauth2/auth?client_id=32555940559.apps.googleusercontent.com&redirect_uri=urn%3Aietf%3Awg%3Aoauth%3A2.0%3Aoob&scope=https%3A%2F%2Fwww.googleapis.com%2Fauth%2Fdrive&response_type=code&access_type=offline&approval_prompt=force\n",
            "Please enter the verification code: Access token retrieved correctly.\n"
          ],
          "name": "stdout"
        }
      ]
    },
    {
      "metadata": {
        "id": "wTZMxsTwCdqO",
        "colab_type": "code",
        "outputId": "076d69a7-162b-4857-a190-6142f0cdc001",
        "colab": {
          "base_uri": "https://localhost:8080/",
          "height": 296
        }
      },
      "cell_type": "code",
      "source": [
        " !apt-get install unrar"
      ],
      "execution_count": 0,
      "outputs": [
        {
          "output_type": "stream",
          "text": [
            "Reading package lists... Done\n",
            "Building dependency tree       \n",
            "Reading state information... Done\n",
            "The following NEW packages will be installed:\n",
            "  unrar\n",
            "0 upgraded, 1 newly installed, 0 to remove and 6 not upgraded.\n",
            "Need to get 129 kB of archives.\n",
            "After this operation, 322 kB of additional disk space will be used.\n",
            "Get:1 http://archive.ubuntu.com/ubuntu artful/multiverse amd64 unrar amd64 1:5.5.8-1 [129 kB]\n",
            "Fetched 129 kB in 0s (233 kB/s)\n",
            "Selecting previously unselected package unrar.\n",
            "(Reading database ... 19833 files and directories currently installed.)\n",
            "Preparing to unpack .../unrar_1%3a5.5.8-1_amd64.deb ...\n",
            "Unpacking unrar (1:5.5.8-1) ...\n",
            "Setting up unrar (1:5.5.8-1) ...\n",
            "update-alternatives: using /usr/bin/unrar-nonfree to provide /usr/bin/unrar (unrar) in auto mode\n"
          ],
          "name": "stdout"
        }
      ]
    },
    {
      "metadata": {
        "id": "AdluIdUBw8X5",
        "colab_type": "code",
        "outputId": "97ac5a48-4261-4f3d-aab9-81d4dfb0c72f",
        "colab": {
          "base_uri": "https://localhost:8080/",
          "height": 34
        }
      },
      "cell_type": "code",
      "source": [
        "!ls"
      ],
      "execution_count": 0,
      "outputs": [
        {
          "output_type": "stream",
          "text": [
            "datalab\r\n"
          ],
          "name": "stdout"
        }
      ]
    },
    {
      "metadata": {
        "id": "yaEnpb62Cwz8",
        "colab_type": "code",
        "colab": {}
      },
      "cell_type": "code",
      "source": [
        "!mkdir -p drive\n",
        "!google-drive-ocamlfuse drive "
      ],
      "execution_count": 0,
      "outputs": []
    },
    {
      "metadata": {
        "id": "h8siToSTEDp_",
        "colab_type": "code",
        "colab": {}
      },
      "cell_type": "code",
      "source": [
        "!unrar x \"drive/ML/data2.rar\""
      ],
      "execution_count": 0,
      "outputs": []
    },
    {
      "metadata": {
        "id": "ofqNo6_eLZ_a",
        "colab_type": "code",
        "outputId": "4477c89e-ee02-42a9-c107-c5a1766f97f6",
        "colab": {
          "base_uri": "https://localhost:8080/",
          "height": 196
        }
      },
      "cell_type": "code",
      "source": [
        "import pandas as pd\n",
        "import numpy as np\n",
        "import csv\n",
        "from PIL import Image\n",
        "%matplotlib inline\n",
        "test = pd.read_csv(\"test.csv\")\n",
        "train = pd.read_csv(\"train.csv\")\n",
        "train.head()"
      ],
      "execution_count": 0,
      "outputs": [
        {
          "output_type": "execute_result",
          "data": {
            "text/html": [
              "<div>\n",
              "<style scoped>\n",
              "    .dataframe tbody tr th:only-of-type {\n",
              "        vertical-align: middle;\n",
              "    }\n",
              "\n",
              "    .dataframe tbody tr th {\n",
              "        vertical-align: top;\n",
              "    }\n",
              "\n",
              "    .dataframe thead th {\n",
              "        text-align: right;\n",
              "    }\n",
              "</style>\n",
              "<table border=\"1\" class=\"dataframe\">\n",
              "  <thead>\n",
              "    <tr style=\"text-align: right;\">\n",
              "      <th></th>\n",
              "      <th>name</th>\n",
              "      <th>age</th>\n",
              "    </tr>\n",
              "  </thead>\n",
              "  <tbody>\n",
              "    <tr>\n",
              "      <th>0</th>\n",
              "      <td>ML000001.jpg</td>\n",
              "      <td>0</td>\n",
              "    </tr>\n",
              "    <tr>\n",
              "      <th>1</th>\n",
              "      <td>ML000002.jpg</td>\n",
              "      <td>0</td>\n",
              "    </tr>\n",
              "    <tr>\n",
              "      <th>2</th>\n",
              "      <td>ML000003.jpg</td>\n",
              "      <td>0</td>\n",
              "    </tr>\n",
              "    <tr>\n",
              "      <th>3</th>\n",
              "      <td>ML000004.jpg</td>\n",
              "      <td>0</td>\n",
              "    </tr>\n",
              "    <tr>\n",
              "      <th>4</th>\n",
              "      <td>ML000005.jpg</td>\n",
              "      <td>0</td>\n",
              "    </tr>\n",
              "  </tbody>\n",
              "</table>\n",
              "</div>"
            ],
            "text/plain": [
              "           name  age\n",
              "0  ML000001.jpg    0\n",
              "1  ML000002.jpg    0\n",
              "2  ML000003.jpg    0\n",
              "3  ML000004.jpg    0\n",
              "4  ML000005.jpg    0"
            ]
          },
          "metadata": {
            "tags": []
          },
          "execution_count": 7
        }
      ]
    },
    {
      "metadata": {
        "id": "QL2ob_620NPK",
        "colab_type": "text"
      },
      "cell_type": "markdown",
      "source": [
        "## 以下是train_data的生成 ##"
      ]
    },
    {
      "metadata": {
        "id": "6rwbZ-CQCoRC",
        "colab_type": "code",
        "colab": {}
      },
      "cell_type": "code",
      "source": [
        "import csv\n",
        "import pandas as pd\n",
        "from PIL import Image\n",
        "import random\n",
        "test = pd.read_csv(\"test.csv\")\n",
        "train = pd.read_csv(\"train.csv\")\n",
        "# 開啟輸出的 CSV 檔案\n",
        "with open('drive/ML/output500.csv', 'w', newline='') as csvfile:\n",
        "  # 建立 CSV 檔寫入器\n",
        "  writer = csv.writer(csvfile, delimiter=',')\n",
        "  # 寫入一列資料\n",
        "  writer.writerow(['age', 'feature'])\n",
        "  #------------\n",
        "  train_age = train[\"age\"]\n",
        "  train_name = train[\"name\"]\n",
        "\n",
        "  data=\"\"\n",
        "  i=random.sample(range(1,152551),50000)\n",
        "  q=0\n",
        "  for age in train_age:\n",
        "    \n",
        "      \n",
        "      filename=\"ML\"+\"%06d\" % i[q]+\".jpg\"\n",
        "      image = Image.open(\"train/\"+filename)\n",
        "      image = image.convert('L')\n",
        "      width = image.size[0]\n",
        "      height = image.size[1]\n",
        "      image=image.resize((50,50),Image.ANTIALIAS) \n",
        "      width = image.size[0]\n",
        "      height = image.size[1]\n",
        "      print()\n",
        "      for x in range(width):\n",
        "          for y in range(height):\n",
        "              g= image.getpixel((x,y))\n",
        "              if (x == width-1)&(y == height-1):\n",
        "                  data+=str(g)                    \n",
        "              else:\n",
        "                  data+=str(g)+\" \"\n",
        "      writer.writerow([train_age[i[q]], data])\n",
        "      data=\"\"\n",
        "      print(q,i[q])\n",
        "      image.close()\n",
        "      q+=1\n",
        "      if(q==500):\n",
        "          break\n",
        "csvfile.close()\n",
        "\n"
      ],
      "execution_count": 0,
      "outputs": []
    },
    {
      "metadata": {
        "id": "0wY8D_O_OsjW",
        "colab_type": "code",
        "colab": {}
      },
      "cell_type": "code",
      "source": [
        "\n",
        "import pandas as pd\n",
        "import numpy as np\n",
        "import csv\n",
        "import matplotlib.pyplot as plt\n",
        "%matplotlib inline\n",
        "\n",
        "x = pd.read_csv(\"drive/ML/output500.csv\")\n",
        "print(x.values.shape)\n",
        "print(x.head())\n",
        "\n",
        "data = x.values\n",
        "print(data.shape)\n",
        "print(data[0, 0])\n",
        "\n",
        "y = data[:, 0]\n",
        "pixels = data[:, 1]\n",
        "print(type(pixels))\n",
        "print(len(pixels[0]))\n",
        "print(pixels[10][10])\n",
        "\n",
        "X = np.zeros((pixels.shape[0], 50*50))\n",
        "\n",
        "for ix in range(X.shape[0]):\n",
        "    p = pixels[ix].split(' ')\n",
        "    for iy in range(X.shape[1]):\n",
        "        X[ix, iy] = int(p[iy])\n",
        "        \n",
        "\n",
        "np.save('facial_data_X', X)\n",
        "np.save('facial_labels', y)\n",
        "x = np.load('./facial_data_X.npy')\n",
        "y = np.load('./facial_labels.npy')\n",
        "for ix in range(10):\n",
        "    plt.figure(ix)\n",
        "    plt.imshow(x[ix].reshape((50, 50)), interpolation='none', cmap='gray')\n",
        "plt.show()"
      ],
      "execution_count": 0,
      "outputs": []
    },
    {
      "metadata": {
        "id": "K-c06-0_PYtZ",
        "colab_type": "code",
        "outputId": "207519a3-f968-46e9-dfa2-0f6e7cdb3a27",
        "colab": {
          "base_uri": "https://localhost:8080/",
          "height": 69
        }
      },
      "cell_type": "code",
      "source": [
        "from keras.utils import np_utils\n",
        "train =pd.read_csv(\"drive/ML/output500.csv\")\n",
        "train_label = train['age']\n",
        "train_feature = train['feature']\n",
        "\n",
        "\n",
        "#for tf in train_feature:\n",
        "#  aa=tf.split(' ')\n",
        "#  aa.pop()\n",
        "  #np.reshape(aa,(50,50))\n",
        "#  train_data = np.array([np.reshape(aa,(50,50))])\n",
        "#  print(train_data)\n",
        "\n",
        "  #train_data = np.array([np.reshape(tf.split(' '),(100,100))for tf in train_feature])\n",
        "\n",
        "train_data = np.array([np.reshape(tf.split(' '),(50,50))for tf in train_feature])\n",
        "print(np.shape(train_data))\n",
        "#print(train_data.shape[0])\n",
        "\n",
        "train4d = train_data.reshape(train_data.shape[0], 50, 50, 1).astype('float32')\n",
        "train4d_norm = train4d/255.0\n",
        "train_oneHot = np_utils.to_categorical(train_label)\n",
        "print(train_oneHot[:1])"
      ],
      "execution_count": 0,
      "outputs": [
        {
          "output_type": "stream",
          "text": [
            "Using TensorFlow backend.\n"
          ],
          "name": "stderr"
        },
        {
          "output_type": "stream",
          "text": [
            "(500, 50, 50)\n",
            "[[0. 0. 0. 1. 0. 0.]]\n"
          ],
          "name": "stdout"
        }
      ]
    },
    {
      "metadata": {
        "id": "3l-3k6w53nIi",
        "colab_type": "code",
        "outputId": "93e66136-8890-4968-b25b-40e98959e4bf",
        "colab": {
          "base_uri": "https://localhost:8080/",
          "height": 34
        }
      },
      "cell_type": "code",
      "source": [
        "print(\"\\t[Info] Shape of train data=%s\" % (str(train4d.shape)))"
      ],
      "execution_count": 0,
      "outputs": [
        {
          "output_type": "stream",
          "text": [
            "\t[Info] Shape of train data=(500, 50, 50, 1)\n"
          ],
          "name": "stdout"
        }
      ]
    },
    {
      "metadata": {
        "id": "yMVjDYUT0a4S",
        "colab_type": "text"
      },
      "cell_type": "markdown",
      "source": [
        "## 以下是test_data的生成 ##"
      ]
    },
    {
      "metadata": {
        "id": "m1qiFU-s0Ey1",
        "colab_type": "code",
        "colab": {}
      },
      "cell_type": "code",
      "source": [
        "import csv\n",
        "import pandas as pd\n",
        "from PIL import Image\n",
        "import random\n",
        "test = pd.read_csv(\"test.csv\")\n",
        "\n",
        "# 開啟輸出的 CSV 檔案\n",
        "with open('drive/ML/output500_test.csv', 'w', newline='') as csvfile:\n",
        "  # 建立 CSV 檔寫入器\n",
        "  writer = csv.writer(csvfile, delimiter=',')\n",
        "  # 寫入一列資料\n",
        "  writer.writerow(['id', 'feature'])\n",
        "  #------------\n",
        "  #train_age = train[\"age\"]\n",
        "  #train_name = train[\"name\"]\n",
        "\n",
        "  data=\"\"\n",
        "  #i=random.sample(range(1,152551),50000)\n",
        "  q=0\n",
        "  for i in range(152551,163447):\n",
        "    \n",
        "      \n",
        "      filename=\"ML\"+\"%06d\" % i+\".jpg\"\n",
        "      image = Image.open(\"test/\"+filename)\n",
        "      image = image.convert('L')\n",
        "      width = image.size[0]\n",
        "      height = image.size[1]\n",
        "      image=image.resize((50,50),Image.ANTIALIAS) \n",
        "      width = image.size[0]\n",
        "      height = image.size[1]\n",
        "      print()\n",
        "      for x in range(width):\n",
        "          for y in range(height):\n",
        "              g= image.getpixel((x,y))\n",
        "              if (x == width-1)&(y == height-1):\n",
        "                  data+=str(g)                    \n",
        "              else:\n",
        "                  data+=str(g)+\" \"\n",
        "      writer.writerow([i, data])\n",
        "      data=\"\"\n",
        "      print(q,i)\n",
        "      image.close()\n",
        "      q+=1\n",
        "      if(q==500):\n",
        "          break\n",
        "csvfile.close()\n",
        "\n"
      ],
      "execution_count": 0,
      "outputs": []
    },
    {
      "metadata": {
        "id": "gt3QhO4c3J_O",
        "colab_type": "code",
        "outputId": "40975e4a-ba6d-4e3a-ea1a-2fe033f730c2",
        "colab": {
          "base_uri": "https://localhost:8080/",
          "height": 121
        }
      },
      "cell_type": "code",
      "source": [
        "x = pd.read_csv(\"drive/ML/output500_test.csv\")\n",
        "print(x.head())"
      ],
      "execution_count": 0,
      "outputs": [
        {
          "output_type": "stream",
          "text": [
            "       id                                            feature\n",
            "0  152551  0 0 0 0 0 0 0 0 0 0 0 0 0 0 0 0 0 0 0 0 0 0 0 ...\n",
            "1  152552  132 133 134 135 142 115 35 61 66 68 73 75 75 7...\n",
            "2  152553  33 34 35 36 35 34 33 34 33 33 41 55 56 49 39 2...\n",
            "3  152554  0 0 0 0 0 0 0 0 0 0 0 0 0 0 0 0 0 0 0 0 0 0 0 ...\n",
            "4  152555  46 75 59 102 131 86 115 115 40 121 215 210 252...\n"
          ],
          "name": "stdout"
        }
      ]
    },
    {
      "metadata": {
        "id": "zpv0CYWj2cJk",
        "colab_type": "code",
        "colab": {}
      },
      "cell_type": "code",
      "source": [
        "\n",
        "import pandas as pd\n",
        "import numpy as np\n",
        "import csv\n",
        "import matplotlib.pyplot as plt\n",
        "%matplotlib inline\n",
        "\n",
        "x = pd.read_csv(\"drive/ML/output500_test.csv\")\n",
        "print(x.values.shape)\n",
        "print(x.head())\n",
        "\n",
        "data = x.values\n",
        "print(data.shape)\n",
        "print(data[0, 0])\n",
        "\n",
        "y = data[:, 0]\n",
        "pixels = data[:, 1]\n",
        "print(type(pixels))\n",
        "print(len(pixels[0]))\n",
        "print(pixels[10][10])\n",
        "\n",
        "X = np.zeros((pixels.shape[0], 50*50))\n",
        "\n",
        "for ix in range(X.shape[0]):\n",
        "    p = pixels[ix].split(' ')\n",
        "    for iy in range(X.shape[1]):\n",
        "        X[ix, iy] = int(p[iy])\n",
        "        \n",
        "\n",
        "np.save('facial_data_X_test', X)\n",
        "np.save('facial_labels_test', y)\n",
        "x = np.load('./facial_data_X_test.npy')\n",
        "y = np.load('./facial_labels_test.npy')\n",
        "for ix in range(10):\n",
        "    plt.figure(ix)\n",
        "    plt.imshow(x[ix].reshape((50, 50)), interpolation='none', cmap='gray')\n",
        "plt.show()"
      ],
      "execution_count": 0,
      "outputs": []
    },
    {
      "metadata": {
        "id": "ayFrQ0QM2vv8",
        "colab_type": "code",
        "outputId": "c48e5086-1708-497f-f04e-1abf58d9230e",
        "colab": {
          "base_uri": "https://localhost:8080/",
          "height": 34
        }
      },
      "cell_type": "code",
      "source": [
        "from keras.utils import np_utils\n",
        "test = pd.read_csv(\"drive/ML/output500_test.csv\")\n",
        "test_feature = test['feature']\n",
        "test_data = np.array([np.reshape(tf.split(' '), (50, 50)) for tf in test_feature])\n",
        "test4d = test_data.reshape(test_data.shape[0], 50, 50, 1).astype('float32')\n",
        "print(\"\\t[Info] Shape of test data=%s\" % (str(test4d.shape)))\n",
        "test4d_norm = test4d/255.0"
      ],
      "execution_count": 0,
      "outputs": [
        {
          "output_type": "stream",
          "text": [
            "\t[Info] Shape of test data=(500, 50, 50, 1)\n"
          ],
          "name": "stdout"
        }
      ]
    },
    {
      "metadata": {
        "id": "kQPGfCKc3wb_",
        "colab_type": "code",
        "outputId": "ab7e0712-e777-45a2-e2d9-8dc71a11fda5",
        "colab": {
          "base_uri": "https://localhost:8080/",
          "height": 1256
        }
      },
      "cell_type": "code",
      "source": [
        "from keras.models import Sequential\n",
        "from keras.layers import Dense,Dropout,Flatten,Conv2D,MaxPooling2D\n",
        "from keras import optimizers\n",
        "\n",
        "model = Sequential()\n",
        "model.add(Conv2D(filters = 144,kernel_size = (5,5),padding = 'same',input_shape = (50,50,1),activation = 'relu'))\n",
        "model.add(MaxPooling2D())\n",
        "model.add(Dropout(0.25))\n",
        "\n",
        "model.add(Conv2D(filters = 144,kernel_size = (5,5),padding = 'same',activation = 'relu'))\n",
        "model.add(MaxPooling2D())\n",
        "model.add(Dropout(0.3))\n",
        "\n",
        "model.add(Conv2D(filters = 144,kernel_size = (5,5),padding = 'same',activation = 'relu'))\n",
        "model.add(MaxPooling2D())\n",
        "model.add(Dropout(0.25))\n",
        "\n",
        "model.add(Conv2D(filters = 144,kernel_size = (5,5),padding = 'same',activation = 'relu'))\n",
        "model.add(MaxPooling2D())\n",
        "model.add(Dropout(0.3))\n",
        "\n",
        "model.add(Flatten())\n",
        "model.add(Dense(128,activation = 'relu'))\n",
        "model.add(Dropout(0.25)) \n",
        "model.add(Dense(6, activation='softmax'))  \n",
        "model.summary()  \n",
        "print(\"\")\n",
        "\n",
        "model.compile(loss = 'categorical_crossentropy',optimizer = 'adam',metrics=['accuracy'])\n",
        "train_history = model.fit(x=train4d_norm,y=train_oneHot,validation_split=0.2,epochs=15,batch_size=300,verbose=2)"
      ],
      "execution_count": 0,
      "outputs": [
        {
          "output_type": "stream",
          "text": [
            "_________________________________________________________________\n",
            "Layer (type)                 Output Shape              Param #   \n",
            "=================================================================\n",
            "conv2d_9 (Conv2D)            (None, 50, 50, 144)       3744      \n",
            "_________________________________________________________________\n",
            "max_pooling2d_9 (MaxPooling2 (None, 25, 25, 144)       0         \n",
            "_________________________________________________________________\n",
            "dropout_11 (Dropout)         (None, 25, 25, 144)       0         \n",
            "_________________________________________________________________\n",
            "conv2d_10 (Conv2D)           (None, 25, 25, 144)       518544    \n",
            "_________________________________________________________________\n",
            "max_pooling2d_10 (MaxPooling (None, 12, 12, 144)       0         \n",
            "_________________________________________________________________\n",
            "dropout_12 (Dropout)         (None, 12, 12, 144)       0         \n",
            "_________________________________________________________________\n",
            "conv2d_11 (Conv2D)           (None, 12, 12, 144)       518544    \n",
            "_________________________________________________________________\n",
            "max_pooling2d_11 (MaxPooling (None, 6, 6, 144)         0         \n",
            "_________________________________________________________________\n",
            "dropout_13 (Dropout)         (None, 6, 6, 144)         0         \n",
            "_________________________________________________________________\n",
            "conv2d_12 (Conv2D)           (None, 6, 6, 144)         518544    \n",
            "_________________________________________________________________\n",
            "max_pooling2d_12 (MaxPooling (None, 3, 3, 144)         0         \n",
            "_________________________________________________________________\n",
            "dropout_14 (Dropout)         (None, 3, 3, 144)         0         \n",
            "_________________________________________________________________\n",
            "flatten_3 (Flatten)          (None, 1296)              0         \n",
            "_________________________________________________________________\n",
            "dense_5 (Dense)              (None, 128)               166016    \n",
            "_________________________________________________________________\n",
            "dropout_15 (Dropout)         (None, 128)               0         \n",
            "_________________________________________________________________\n",
            "dense_6 (Dense)              (None, 6)                 774       \n",
            "=================================================================\n",
            "Total params: 1,726,166\n",
            "Trainable params: 1,726,166\n",
            "Non-trainable params: 0\n",
            "_________________________________________________________________\n",
            "\n",
            "Train on 400 samples, validate on 100 samples\n",
            "Epoch 1/15\n",
            " - 7s - loss: 1.7384 - acc: 0.2125 - val_loss: 1.6546 - val_acc: 0.2000\n",
            "Epoch 2/15\n",
            " - 0s - loss: 1.7385 - acc: 0.2625 - val_loss: 1.7101 - val_acc: 0.2700\n",
            "Epoch 3/15\n",
            " - 0s - loss: 1.6529 - acc: 0.2100 - val_loss: 1.7272 - val_acc: 0.2000\n",
            "Epoch 4/15\n",
            " - 0s - loss: 1.6480 - acc: 0.2575 - val_loss: 1.6667 - val_acc: 0.2000\n",
            "Epoch 5/15\n",
            " - 0s - loss: 1.5794 - acc: 0.2700 - val_loss: 1.6565 - val_acc: 0.2000\n",
            "Epoch 6/15\n",
            " - 0s - loss: 1.5723 - acc: 0.2750 - val_loss: 1.6103 - val_acc: 0.2300\n",
            "Epoch 7/15\n",
            " - 0s - loss: 1.5596 - acc: 0.2325 - val_loss: 1.6159 - val_acc: 0.3300\n",
            "Epoch 8/15\n",
            " - 0s - loss: 1.5663 - acc: 0.2550 - val_loss: 1.6168 - val_acc: 0.2200\n",
            "Epoch 9/15\n",
            " - 0s - loss: 1.5570 - acc: 0.2675 - val_loss: 1.6182 - val_acc: 0.2000\n",
            "Epoch 10/15\n",
            " - 0s - loss: 1.5315 - acc: 0.3175 - val_loss: 1.6261 - val_acc: 0.2000\n",
            "Epoch 11/15\n",
            " - 0s - loss: 1.5384 - acc: 0.2675 - val_loss: 1.6232 - val_acc: 0.2000\n",
            "Epoch 12/15\n",
            " - 0s - loss: 1.5474 - acc: 0.2675 - val_loss: 1.6233 - val_acc: 0.1800\n",
            "Epoch 13/15\n",
            " - 0s - loss: 1.5418 - acc: 0.2650 - val_loss: 1.6208 - val_acc: 0.2300\n",
            "Epoch 14/15\n",
            " - 0s - loss: 1.5267 - acc: 0.2725 - val_loss: 1.6213 - val_acc: 0.2300\n",
            "Epoch 15/15\n",
            " - 0s - loss: 1.5520 - acc: 0.2725 - val_loss: 1.6152 - val_acc: 0.2200\n"
          ],
          "name": "stdout"
        }
      ]
    },
    {
      "metadata": {
        "id": "jbeLPX7e4gSC",
        "colab_type": "code",
        "outputId": "10d670cb-829d-4991-f16e-4d886052dca8",
        "colab": {
          "base_uri": "https://localhost:8080/",
          "height": 623
        }
      },
      "cell_type": "code",
      "source": [
        "def show_trainHistory(train_history,train,validation):\n",
        "    plt.plot(train_history.history[train])\n",
        "    plt.plot(train_history.history[validation])\n",
        "    plt.title('Train History')\n",
        "    plt.ylabel(train)\n",
        "    plt.xlabel('Epoch')\n",
        "    plt.legend(['train','validation'],loc = 'upper left')\n",
        "    plt.show()\n",
        "\n",
        "def plot_imageLablePredict(images,labels,prediction,idx,num = 10):\n",
        "    fig = plt.gcf()\n",
        "    fig.set_size_inches(12,14)\n",
        "    if num > 25:\n",
        "        num = 25\n",
        "    for i in range(0,num):\n",
        "        ax=plt.subplot(5,5, 1+i)  \n",
        "        ax.imshow(images[idx], cmap='binary')  \n",
        "        title = \"l=\" + str(labels[idx])  \n",
        "        if len(prediction) > 0:  \n",
        "            title = \"l={},p={}\".format(str(labels[idx]), str(prediction[idx]))  \n",
        "        else:  \n",
        "            title = \"l={}\".format(str(labels[idx]))  \n",
        "        ax.set_title(title, fontsize=10)  \n",
        "        ax.set_xticks([]); ax.set_yticks([])  \n",
        "        idx+=1  \n",
        "    plt.show()\n",
        "\n",
        "show_trainHistory(train_history, 'acc', 'val_acc')\n",
        "show_trainHistory(train_history, 'loss', 'val_loss')\n",
        "\n",
        "scores = model.evaluate(train4d_norm, train_oneHot)  \n",
        "print()  \n",
        "print(\"\\t[Info] Accuracy of testing data = {:2.1f}%\".format(scores[1]*100.0))"
      ],
      "execution_count": 0,
      "outputs": [
        {
          "output_type": "display_data",
          "data": {
            "image/png": "[encoded data removed]",
            "text/plain": [
              "<matplotlib.figure.Figure at 0x7fd83a691860>"
            ]
          },
          "metadata": {
            "tags": []
          }
        },
        {
          "output_type": "display_data",
          "data": {
            "image/png": "[encoded data removed]",
            "text/plain": [
              "<matplotlib.figure.Figure at 0x7fd7f43c0860>"
            ]
          },
          "metadata": {
            "tags": []
          }
        },
        {
          "output_type": "stream",
          "text": [
            "500/500 [==============================] - 0s 985us/step\n",
            "\n",
            "\t[Info] Accuracy of testing data = 26.8%\n"
          ],
          "name": "stdout"
        }
      ]
    },
    {
      "metadata": {
        "id": "90OtTl9b4uXL",
        "colab_type": "code",
        "outputId": "7edf2385-0806-4f8e-c713-f39d9c97911c",
        "colab": {
          "base_uri": "https://localhost:8080/",
          "height": 104
        }
      },
      "cell_type": "code",
      "source": [
        "print(test4d_norm.shape)\n",
        "print(\"\\t[Info] Making prediction of test4d_norm\")  \n",
        "prediction = model.predict_classes(test4d_norm)  # Making prediction and save result to prediction  \n",
        "print()  \n",
        "print(prediction.shape)\n",
        "with open('drive/ML/output.csv', 'w', newline='') as csvfile:\n",
        "    writer = csv.writer(csvfile,delimiter = ',')\n",
        "    writer.writerow(['id','age'])\n",
        "    count = 1\n",
        "    for i in prediction:\n",
        "        writer.writerow([count,i])\n",
        "        count += 1\n",
        "    print(\"output.csv_Done\")"
      ],
      "execution_count": 0,
      "outputs": [
        {
          "output_type": "stream",
          "text": [
            "(500, 50, 50, 1)\n",
            "\t[Info] Making prediction of test4d_norm\n",
            "\n",
            "(500,)\n",
            "output.csv_Done\n"
          ],
          "name": "stdout"
        }
      ]
    }
  ]
}