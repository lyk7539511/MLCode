{
  "nbformat": 4,
  "nbformat_minor": 0,
  "metadata": {
    "colab": {
      "name": "Kaggle_Age_2.ipynb",
      "version": "0.3.2",
      "views": {},
      "default_view": {},
      "provenance": [
        {
          "file_id": "162Fq1YExPwc6qzGHEHK-csbPMCHUs27k",
          "timestamp": 1530098243065
        }
      ],
      "collapsed_sections": []
    },
    "kernelspec": {
      "name": "python3",
      "display_name": "Python 3"
    },
    "accelerator": "GPU"
  },
  "cells": [
    {
      "metadata": {
        "id": "kNNaC02ZCDdd",
        "colab_type": "code",
        "colab": {
          "autoexec": {
            "startup": false,
            "wait_interval": 0
          },
          "base_uri": "https://localhost:8080/",
          "height": 104
        },
        "outputId": "9aa41e36-fdff-4633-cea6-d5e0556e0e95",
        "executionInfo": {
          "status": "ok",
          "timestamp": 1530237259771,
          "user_tz": -480,
          "elapsed": 14375,
          "user": {
            "displayName": "劉元坤@go.thu",
            "photoUrl": "https://lh3.googleusercontent.com/a/default-user=s128",
            "userId": "110847621451358548941"
          }
        }
      },
      "cell_type": "code",
      "source": [
        "!apt-get install -y -qq software-properties-common python-software-properties module-init-tools\n",
        "!add-apt-repository -y ppa:alessandro-strada/ppa 2>&1 > /dev/null\n",
        "!apt-get update -qq 2>&1 > /dev/null\n",
        "!apt-get -y install -qq google-drive-ocamlfuse fuse\n",
        "from google.colab import auth\n",
        "auth.authenticate_user()\n",
        "from oauth2client.client import GoogleCredentials\n",
        "creds = GoogleCredentials.get_application_default()\n",
        "import getpass\n",
        "!google-drive-ocamlfuse -headless -id={creds.client_id} -secret={creds.client_secret} < /dev/null 2>&1 | grep URL\n",
        "vcode = getpass.getpass()\n",
        "!echo {vcode} | google-drive-ocamlfuse -headless -id={creds.client_id} -secret={creds.client_secret}"
      ],
      "execution_count": 1,
      "outputs": [
        {
          "output_type": "stream",
          "text": [
            "Please, open the following URL in a web browser: https://accounts.google.com/o/oauth2/auth?client_id=32555940559.apps.googleusercontent.com&redirect_uri=urn%3Aietf%3Awg%3Aoauth%3A2.0%3Aoob&scope=https%3A%2F%2Fwww.googleapis.com%2Fauth%2Fdrive&response_type=code&access_type=offline&approval_prompt=force\r\n",
            "··········\n",
            "Please, open the following URL in a web browser: https://accounts.google.com/o/oauth2/auth?client_id=32555940559.apps.googleusercontent.com&redirect_uri=urn%3Aietf%3Awg%3Aoauth%3A2.0%3Aoob&scope=https%3A%2F%2Fwww.googleapis.com%2Fauth%2Fdrive&response_type=code&access_type=offline&approval_prompt=force\n",
            "Please enter the verification code: Access token retrieved correctly.\n"
          ],
          "name": "stdout"
        }
      ]
    },
    {
      "metadata": {
        "id": "wTZMxsTwCdqO",
        "colab_type": "code",
        "colab": {
          "autoexec": {
            "startup": false,
            "wait_interval": 0
          },
          "base_uri": "https://localhost:8080/",
          "height": 286
        },
        "outputId": "7fc6a104-af8d-43fe-ebc7-de7637552ad6",
        "executionInfo": {
          "status": "ok",
          "timestamp": 1530237272723,
          "user_tz": -480,
          "elapsed": 4771,
          "user": {
            "displayName": "劉元坤@go.thu",
            "photoUrl": "https://lh3.googleusercontent.com/a/default-user=s128",
            "userId": "110847621451358548941"
          }
        }
      },
      "cell_type": "code",
      "source": [
        " !apt-get install unrar"
      ],
      "execution_count": 2,
      "outputs": [
        {
          "output_type": "stream",
          "text": [
            "Reading package lists... Done\n",
            "Building dependency tree       \n",
            "Reading state information... Done\n",
            "The following NEW packages will be installed:\n",
            "  unrar\n",
            "0 upgraded, 1 newly installed, 0 to remove and 6 not upgraded.\n",
            "Need to get 129 kB of archives.\n",
            "After this operation, 322 kB of additional disk space will be used.\n",
            "Get:1 http://archive.ubuntu.com/ubuntu artful/multiverse amd64 unrar amd64 1:5.5.8-1 [129 kB]\n",
            "Fetched 129 kB in 0s (170 kB/s)\n",
            "Selecting previously unselected package unrar.\n",
            "(Reading database ... 19833 files and directories currently installed.)\n",
            "Preparing to unpack .../unrar_1%3a5.5.8-1_amd64.deb ...\n",
            "Unpacking unrar (1:5.5.8-1) ...\n",
            "Setting up unrar (1:5.5.8-1) ...\n",
            "update-alternatives: using /usr/bin/unrar-nonfree to provide /usr/bin/unrar (unrar) in auto mode\n"
          ],
          "name": "stdout"
        }
      ]
    },
    {
      "metadata": {
        "id": "AdluIdUBw8X5",
        "colab_type": "code",
        "colab": {
          "autoexec": {
            "startup": false,
            "wait_interval": 0
          },
          "base_uri": "https://localhost:8080/",
          "height": 34
        },
        "outputId": "82f7d56d-71bb-4518-e12e-a2611a1fefed",
        "executionInfo": {
          "status": "ok",
          "timestamp": 1530237276533,
          "user_tz": -480,
          "elapsed": 1688,
          "user": {
            "displayName": "劉元坤@go.thu",
            "photoUrl": "https://lh3.googleusercontent.com/a/default-user=s128",
            "userId": "110847621451358548941"
          }
        }
      },
      "cell_type": "code",
      "source": [
        "!ls"
      ],
      "execution_count": 3,
      "outputs": [
        {
          "output_type": "stream",
          "text": [
            "datalab\r\n"
          ],
          "name": "stdout"
        }
      ]
    },
    {
      "metadata": {
        "id": "yaEnpb62Cwz8",
        "colab_type": "code",
        "colab": {
          "autoexec": {
            "startup": false,
            "wait_interval": 0
          },
          "base_uri": "https://localhost:8080/",
          "height": 17
        },
        "outputId": "0c01b85f-998d-4ced-bc4d-db64f9b6f31a",
        "executionInfo": {
          "status": "ok",
          "timestamp": 1530237287920,
          "user_tz": -480,
          "elapsed": 2856,
          "user": {
            "displayName": "劉元坤@go.thu",
            "photoUrl": "https://lh3.googleusercontent.com/a/default-user=s128",
            "userId": "110847621451358548941"
          }
        }
      },
      "cell_type": "code",
      "source": [
        "!mkdir -p drive\n",
        "!google-drive-ocamlfuse drive "
      ],
      "execution_count": 4,
      "outputs": []
    },
    {
      "metadata": {
        "id": "fY2RJ9f4QBDn",
        "colab_type": "code",
        "colab": {
          "autoexec": {
            "startup": false,
            "wait_interval": 0
          },
          "base_uri": "https://localhost:8080/",
          "height": 34
        },
        "outputId": "3189fc1b-0c01-4294-b21d-6736ef6fbd87",
        "executionInfo": {
          "status": "ok",
          "timestamp": 1530237302506,
          "user_tz": -480,
          "elapsed": 1668,
          "user": {
            "displayName": "劉元坤@go.thu",
            "photoUrl": "https://lh3.googleusercontent.com/a/default-user=s128",
            "userId": "110847621451358548941"
          }
        }
      },
      "cell_type": "code",
      "source": [
        "!ls"
      ],
      "execution_count": 5,
      "outputs": [
        {
          "output_type": "stream",
          "text": [
            "datalab  drive\r\n"
          ],
          "name": "stdout"
        }
      ]
    },
    {
      "metadata": {
        "id": "h8siToSTEDp_",
        "colab_type": "code",
        "colab": {
          "autoexec": {
            "startup": false,
            "wait_interval": 0
          }
        }
      },
      "cell_type": "code",
      "source": [
        "!unrar x \"drive/ML/data2.rar\""
      ],
      "execution_count": 0,
      "outputs": []
    },
    {
      "metadata": {
        "id": "ofqNo6_eLZ_a",
        "colab_type": "code",
        "colab": {
          "autoexec": {
            "startup": false,
            "wait_interval": 0
          },
          "base_uri": "https://localhost:8080/",
          "height": 195
        },
        "outputId": "fb10fc76-663a-41c1-df5d-40b586507f76",
        "executionInfo": {
          "status": "ok",
          "timestamp": 1530238125353,
          "user_tz": -480,
          "elapsed": 887,
          "user": {
            "displayName": "劉元坤@go.thu",
            "photoUrl": "https://lh3.googleusercontent.com/a/default-user=s128",
            "userId": "110847621451358548941"
          }
        }
      },
      "cell_type": "code",
      "source": [
        "import pandas as pd\n",
        "import numpy as np\n",
        "import csv\n",
        "from PIL import Image\n",
        "%matplotlib inline\n",
        "test = pd.read_csv(\"test.csv\")\n",
        "train = pd.read_csv(\"train.csv\")\n",
        "train.head()"
      ],
      "execution_count": 7,
      "outputs": [
        {
          "output_type": "execute_result",
          "data": {
            "text/html": [
              "<div>\n",
              "<style scoped>\n",
              "    .dataframe tbody tr th:only-of-type {\n",
              "        vertical-align: middle;\n",
              "    }\n",
              "\n",
              "    .dataframe tbody tr th {\n",
              "        vertical-align: top;\n",
              "    }\n",
              "\n",
              "    .dataframe thead th {\n",
              "        text-align: right;\n",
              "    }\n",
              "</style>\n",
              "<table border=\"1\" class=\"dataframe\">\n",
              "  <thead>\n",
              "    <tr style=\"text-align: right;\">\n",
              "      <th></th>\n",
              "      <th>name</th>\n",
              "      <th>age</th>\n",
              "    </tr>\n",
              "  </thead>\n",
              "  <tbody>\n",
              "    <tr>\n",
              "      <th>0</th>\n",
              "      <td>ML000001.jpg</td>\n",
              "      <td>0</td>\n",
              "    </tr>\n",
              "    <tr>\n",
              "      <th>1</th>\n",
              "      <td>ML000002.jpg</td>\n",
              "      <td>0</td>\n",
              "    </tr>\n",
              "    <tr>\n",
              "      <th>2</th>\n",
              "      <td>ML000003.jpg</td>\n",
              "      <td>0</td>\n",
              "    </tr>\n",
              "    <tr>\n",
              "      <th>3</th>\n",
              "      <td>ML000004.jpg</td>\n",
              "      <td>0</td>\n",
              "    </tr>\n",
              "    <tr>\n",
              "      <th>4</th>\n",
              "      <td>ML000005.jpg</td>\n",
              "      <td>0</td>\n",
              "    </tr>\n",
              "  </tbody>\n",
              "</table>\n",
              "</div>"
            ],
            "text/plain": [
              "           name  age\n",
              "0  ML000001.jpg    0\n",
              "1  ML000002.jpg    0\n",
              "2  ML000003.jpg    0\n",
              "3  ML000004.jpg    0\n",
              "4  ML000005.jpg    0"
            ]
          },
          "metadata": {
            "tags": []
          },
          "execution_count": 7
        }
      ]
    },
    {
      "metadata": {
        "id": "QL2ob_620NPK",
        "colab_type": "text"
      },
      "cell_type": "markdown",
      "source": [
        "## 以下是train_data的生成 ##"
      ]
    },
    {
      "metadata": {
        "id": "6rwbZ-CQCoRC",
        "colab_type": "code",
        "colab": {
          "autoexec": {
            "startup": false,
            "wait_interval": 0
          }
        }
      },
      "cell_type": "code",
      "source": [
        "import csv\n",
        "import pandas as pd\n",
        "from PIL import Image\n",
        "import random\n",
        "train = pd.read_csv(\"train.csv\")\n",
        "# 開啟輸出的 CSV 檔案\n",
        "with open('drive/ML/output_train.csv', 'w', newline='') as csvfile:\n",
        "  # 建立 CSV 檔寫入器\n",
        "  writer = csv.writer(csvfile, delimiter=',')\n",
        "  # 寫入一列資料\n",
        "  writer.writerow(['age', 'feature'])\n",
        "  #------------\n",
        "  train_age = train[\"age\"]\n",
        "  train_name = train[\"name\"]\n",
        "\n",
        "  data=\"\"\n",
        "  i=random.sample(range(1,152551),50000)\n",
        "  q=0\n",
        "  for age in train_age:\n",
        "    \n",
        "      \n",
        "      filename=\"ML\"+\"%06d\" % i[q]+\".jpg\"\n",
        "      image = Image.open(\"train/\"+filename)\n",
        "      image = image.convert('L')\n",
        "      width = image.size[0]\n",
        "      height = image.size[1]\n",
        "      image=image.resize((100,100),Image.ANTIALIAS) \n",
        "      width = image.size[0]\n",
        "      height = image.size[1]\n",
        "      print()\n",
        "      for x in range(width):\n",
        "          for y in range(height):\n",
        "              g= image.getpixel((x,y))\n",
        "              if (x == width-1)&(y == height-1):\n",
        "                  data+=str(g)                    \n",
        "              else:\n",
        "                  data+=str(g)+\" \"\n",
        "      writer.writerow([train_age[i[q]], data])\n",
        "      data=\"\"\n",
        "      print(q,i[q])\n",
        "      image.close()\n",
        "      q+=1\n",
        "      if(q==5000):\n",
        "          break\n",
        "csvfile.close()\n",
        "\n"
      ],
      "execution_count": 0,
      "outputs": []
    },
    {
      "metadata": {
        "id": "0wY8D_O_OsjW",
        "colab_type": "code",
        "colab": {
          "autoexec": {
            "startup": false,
            "wait_interval": 0
          }
        }
      },
      "cell_type": "code",
      "source": [
        "\n",
        "import pandas as pd\n",
        "import numpy as np\n",
        "import csv\n",
        "import matplotlib.pyplot as plt\n",
        "%matplotlib inline\n",
        "\n",
        "x = pd.read_csv(\"drive/ML/output_train.csv\")\n",
        "print(x.values.shape)\n",
        "print(x.head())\n",
        "\n",
        "data = x.values\n",
        "print(data.shape)\n",
        "print(data[0, 0])\n",
        "\n",
        "y = data[:, 0]\n",
        "pixels = data[:, 1]\n",
        "print(type(pixels))\n",
        "print(len(pixels[0]))\n",
        "print(pixels[10][10])\n",
        "\n",
        "X = np.zeros((pixels.shape[0], 100*100))\n",
        "\n",
        "for ix in range(X.shape[0]):\n",
        "    p = pixels[ix].split(' ')\n",
        "    for iy in range(X.shape[1]):\n",
        "        X[ix, iy] = int(p[iy])\n",
        "        \n",
        "\n",
        "np.save('facial_data_X', X)\n",
        "np.save('facial_labels', y)\n",
        "x = np.load('./facial_data_X.npy')\n",
        "y = np.load('./facial_labels.npy')\n",
        "for ix in range(2):\n",
        "    plt.figure(ix)\n",
        "    plt.imshow(x[ix].reshape((100, 100)), interpolation='none', cmap='gray')\n",
        "plt.show()"
      ],
      "execution_count": 0,
      "outputs": []
    },
    {
      "metadata": {
        "id": "K-c06-0_PYtZ",
        "colab_type": "code",
        "colab": {
          "autoexec": {
            "startup": false,
            "wait_interval": 0
          }
        }
      },
      "cell_type": "code",
      "source": [
        "from keras.utils import np_utils\n",
        "train =pd.read_csv(\"drive/ML/output_train.csv\")\n",
        "train_label = train['age']\n",
        "train_feature = train['feature']\n",
        "\n",
        "\n",
        "#for tf in train_feature:\n",
        "#  aa=tf.split(' ')\n",
        "#  aa.pop()\n",
        "  #np.reshape(aa,(50,50))\n",
        "#  train_data = np.array([np.reshape(aa,(50,50))])\n",
        "#  print(train_data)\n",
        "\n",
        "  #train_data = np.array([np.reshape(tf.split(' '),(100,100))for tf in train_feature])\n",
        "\n",
        "train_data = np.array([np.reshape(tf.split(' '),(100,100))for tf in train_feature])\n",
        "print(np.shape(train_data))\n",
        "#print(train_data.shape[0])\n",
        "\n",
        "train4d = train_data.reshape(train_data.shape[0], 100, 100, 1).astype('float32')\n",
        "train4d_norm = train4d/255.0\n",
        "train_oneHot = np_utils.to_categorical(train_label)\n",
        "print(train_oneHot[:1])"
      ],
      "execution_count": 0,
      "outputs": []
    },
    {
      "metadata": {
        "id": "3l-3k6w53nIi",
        "colab_type": "code",
        "colab": {
          "autoexec": {
            "startup": false,
            "wait_interval": 0
          }
        }
      },
      "cell_type": "code",
      "source": [
        "print(\"\\t[Info] Shape of train data=%s\" % (str(train4d.shape)))"
      ],
      "execution_count": 0,
      "outputs": []
    },
    {
      "metadata": {
        "id": "yMVjDYUT0a4S",
        "colab_type": "text"
      },
      "cell_type": "markdown",
      "source": [
        "## 以下是test_data的生成 ##"
      ]
    },
    {
      "metadata": {
        "id": "m1qiFU-s0Ey1",
        "colab_type": "code",
        "colab": {
          "autoexec": {
            "startup": false,
            "wait_interval": 0
          }
        }
      },
      "cell_type": "code",
      "source": [
        "import csv\n",
        "import pandas as pd\n",
        "from PIL import Image\n",
        "import random\n",
        "test = pd.read_csv(\"test.csv\")\n",
        "\n",
        "# 開啟輸出的 CSV 檔案\n",
        "with open('drive/ML/output_test.csv', 'w', newline='') as csvfile:\n",
        "  # 建立 CSV 檔寫入器\n",
        "  writer = csv.writer(csvfile, delimiter=',')\n",
        "  # 寫入一列資料\n",
        "  writer.writerow(['id', 'feature'])\n",
        "  #------------\n",
        "  #train_age = train[\"age\"]\n",
        "  #train_name = train[\"name\"]\n",
        "\n",
        "  data=\"\"\n",
        "  #i=random.sample(range(1,152551),50000)\n",
        "  q=1\n",
        "  for i in range(152551,163447):\n",
        "    \n",
        "      \n",
        "      filename=\"ML\"+\"%06d\" % i+\".jpg\"\n",
        "      image = Image.open(\"test/\"+filename)\n",
        "      image = image.convert('L')\n",
        "      width = image.size[0]\n",
        "      height = image.size[1]\n",
        "      image=image.resize((100,100),Image.ANTIALIAS) \n",
        "      width = image.size[0]\n",
        "      height = image.size[1]\n",
        "      print()\n",
        "      for x in range(width):\n",
        "          for y in range(height):\n",
        "              g= image.getpixel((x,y))\n",
        "              if (x == width-1)&(y == height-1):\n",
        "                  data+=str(g)                    \n",
        "              else:\n",
        "                  data+=str(g)+\" \"\n",
        "      writer.writerow([q, data])\n",
        "      data=\"\"\n",
        "      print(q,i)\n",
        "      image.close()\n",
        "      q+=1\n",
        "      if(i==163446):\n",
        "          break\n",
        "csvfile.close()\n",
        "\n"
      ],
      "execution_count": 0,
      "outputs": []
    },
    {
      "metadata": {
        "id": "gt3QhO4c3J_O",
        "colab_type": "code",
        "colab": {
          "autoexec": {
            "startup": false,
            "wait_interval": 0
          }
        }
      },
      "cell_type": "code",
      "source": [
        "x = pd.read_csv(\"drive/ML/output_test.csv\")\n",
        "print(x.head())"
      ],
      "execution_count": 0,
      "outputs": []
    },
    {
      "metadata": {
        "id": "ayFrQ0QM2vv8",
        "colab_type": "code",
        "colab": {
          "autoexec": {
            "startup": false,
            "wait_interval": 0
          },
          "base_uri": "https://localhost:8080/",
          "height": 34
        },
        "outputId": "919a95b3-45b7-42be-b925-183d9f8b0f80",
        "executionInfo": {
          "status": "ok",
          "timestamp": 1530239162517,
          "user_tz": -480,
          "elapsed": 69988,
          "user": {
            "displayName": "劉元坤@go.thu",
            "photoUrl": "https://lh3.googleusercontent.com/a/default-user=s128",
            "userId": "110847621451358548941"
          }
        }
      },
      "cell_type": "code",
      "source": [
        "from keras.utils import np_utils\n",
        "test = pd.read_csv(\"drive/ML/output_test.csv\")\n",
        "test_feature = test['feature']\n",
        "test_data = np.array([np.reshape(tf.split(' '), (100, 100)) for tf in test_feature])\n",
        "test4d = test_data.reshape(test_data.shape[0], 100, 100, 1).astype('float32')\n",
        "print(\"\\t[Info] Shape of test data=%s\" % (str(test4d.shape)))\n",
        "test4d_norm = test4d/255.0"
      ],
      "execution_count": 14,
      "outputs": [
        {
          "output_type": "stream",
          "text": [
            "\t[Info] Shape of test data=(10896, 100, 100, 1)\n"
          ],
          "name": "stdout"
        }
      ]
    },
    {
      "metadata": {
        "id": "gDaZr37b737V",
        "colab_type": "text"
      },
      "cell_type": "markdown",
      "source": [
        "## 以下是訓練過程 ##"
      ]
    },
    {
      "metadata": {
        "id": "0ZVZUeK7L88E",
        "colab_type": "text"
      },
      "cell_type": "markdown",
      "source": [
        "### 普通CNN ###"
      ]
    },
    {
      "metadata": {
        "id": "kQPGfCKc3wb_",
        "colab_type": "code",
        "colab": {
          "autoexec": {
            "startup": false,
            "wait_interval": 0
          },
          "base_uri": "https://localhost:8080/",
          "height": 1344
        },
        "outputId": "b0f04575-ae3b-42eb-d69f-5c9b1acdbd69",
        "executionInfo": {
          "status": "ok",
          "timestamp": 1530256181564,
          "user_tz": -480,
          "elapsed": 1627340,
          "user": {
            "displayName": "劉元坤@go.thu",
            "photoUrl": "https://lh3.googleusercontent.com/a/default-user=s128",
            "userId": "110847621451358548941"
          }
        }
      },
      "cell_type": "code",
      "source": [
        "from keras.models import Sequential\n",
        "from keras.layers import Dense,Dropout,Flatten,Conv2D,MaxPooling2D\n",
        "from keras.layers import Activation\n",
        "from keras import optimizers\n",
        "\n",
        "model = Sequential()\n",
        "model.add(Conv2D(filters = 144,kernel_size = (5,5),padding = 'same',input_shape = (100,100,1),activation = 'relu'))\n",
        "model.add(Conv2D(filters = 144,kernel_size = (5,5),padding = 'same',activation = 'relu'))\n",
        "model.add(MaxPooling2D())\n",
        "model.add(Dropout(0.3))\n",
        "\n",
        "model.add(Conv2D(filters = 144,kernel_size = (5,5),padding = 'same',activation = 'relu'))\n",
        "model.add(Conv2D(filters = 144,kernel_size = (5,5),padding = 'same',activation = 'relu'))\n",
        "model.add(MaxPooling2D())\n",
        "model.add(Dropout(0.35))\n",
        "\n",
        "model.add(Conv2D(filters = 144,kernel_size = (5,5),padding = 'same',activation = 'relu'))\n",
        "model.add(Conv2D(filters = 144,kernel_size = (5,5),padding = 'same',activation = 'relu'))\n",
        "model.add(MaxPooling2D())\n",
        "model.add(Dropout(0.35))\n",
        "\n",
        "model.add(Conv2D(filters = 144,kernel_size = (5,5),padding = 'same',activation = 'relu'))\n",
        "model.add(Conv2D(filters = 144,kernel_size = (5,5),padding = 'same',activation = 'relu'))\n",
        "model.add(MaxPooling2D())\n",
        "model.add(Dropout(0.3))\n",
        "\n",
        "model.add(Flatten())\n",
        "model.add(Dense(128,activation = 'relu'))\n",
        "model.add(Dropout(0.3)) \n",
        "model.add(Dense(6, activation='softmax'))  \n",
        "model.summary()  \n",
        "print(\"\")\n",
        "\n",
        "model.compile(loss = 'categorical_crossentropy',optimizer = 'adam',metrics=['accuracy'])\n",
        "train_history = model.fit(x=train4d_norm,y=train_oneHot,validation_split=0.2,epochs=15,batch_size=300,verbose=2)"
      ],
      "execution_count": 25,
      "outputs": [
        {
          "output_type": "stream",
          "text": [
            "_________________________________________________________________\n",
            "Layer (type)                 Output Shape              Param #   \n",
            "=================================================================\n",
            "conv2d_17 (Conv2D)           (None, 100, 100, 144)     3744      \n",
            "_________________________________________________________________\n",
            "conv2d_18 (Conv2D)           (None, 100, 100, 144)     518544    \n",
            "_________________________________________________________________\n",
            "max_pooling2d_9 (MaxPooling2 (None, 50, 50, 144)       0         \n",
            "_________________________________________________________________\n",
            "dropout_11 (Dropout)         (None, 50, 50, 144)       0         \n",
            "_________________________________________________________________\n",
            "conv2d_19 (Conv2D)           (None, 50, 50, 144)       518544    \n",
            "_________________________________________________________________\n",
            "conv2d_20 (Conv2D)           (None, 50, 50, 144)       518544    \n",
            "_________________________________________________________________\n",
            "max_pooling2d_10 (MaxPooling (None, 25, 25, 144)       0         \n",
            "_________________________________________________________________\n",
            "dropout_12 (Dropout)         (None, 25, 25, 144)       0         \n",
            "_________________________________________________________________\n",
            "conv2d_21 (Conv2D)           (None, 25, 25, 144)       518544    \n",
            "_________________________________________________________________\n",
            "conv2d_22 (Conv2D)           (None, 25, 25, 144)       518544    \n",
            "_________________________________________________________________\n",
            "max_pooling2d_11 (MaxPooling (None, 12, 12, 144)       0         \n",
            "_________________________________________________________________\n",
            "dropout_13 (Dropout)         (None, 12, 12, 144)       0         \n",
            "_________________________________________________________________\n",
            "conv2d_23 (Conv2D)           (None, 12, 12, 144)       518544    \n",
            "_________________________________________________________________\n",
            "conv2d_24 (Conv2D)           (None, 12, 12, 144)       518544    \n",
            "_________________________________________________________________\n",
            "max_pooling2d_12 (MaxPooling (None, 6, 6, 144)         0         \n",
            "_________________________________________________________________\n",
            "dropout_14 (Dropout)         (None, 6, 6, 144)         0         \n",
            "_________________________________________________________________\n",
            "flatten_3 (Flatten)          (None, 5184)              0         \n",
            "_________________________________________________________________\n",
            "dense_5 (Dense)              (None, 128)               663680    \n",
            "_________________________________________________________________\n",
            "dropout_15 (Dropout)         (None, 128)               0         \n",
            "_________________________________________________________________\n",
            "dense_6 (Dense)              (None, 6)                 774       \n",
            "=================================================================\n",
            "Total params: 4,298,006\n",
            "Trainable params: 4,298,006\n",
            "Non-trainable params: 0\n",
            "_________________________________________________________________\n",
            "\n",
            "Train on 4000 samples, validate on 1000 samples\n",
            "Epoch 1/15\n",
            " - 138s - loss: 2.3390 - acc: 0.2350 - val_loss: 1.6385 - val_acc: 0.2290\n",
            "Epoch 2/15\n",
            " - 107s - loss: 1.5895 - acc: 0.2585 - val_loss: 1.5749 - val_acc: 0.2700\n",
            "Epoch 3/15\n",
            " - 107s - loss: 1.5773 - acc: 0.2520 - val_loss: 1.5676 - val_acc: 0.2700\n",
            "Epoch 4/15\n",
            " - 106s - loss: 1.5725 - acc: 0.2583 - val_loss: 1.5659 - val_acc: 0.2700\n",
            "Epoch 5/15\n",
            " - 106s - loss: 1.5754 - acc: 0.2665 - val_loss: 1.5659 - val_acc: 0.2700\n",
            "Epoch 6/15\n",
            " - 106s - loss: 1.5677 - acc: 0.2485 - val_loss: 1.5663 - val_acc: 0.2700\n",
            "Epoch 7/15\n",
            " - 106s - loss: 1.5704 - acc: 0.2675 - val_loss: 1.5655 - val_acc: 0.2700\n",
            "Epoch 8/15\n",
            " - 106s - loss: 1.5655 - acc: 0.2548 - val_loss: 1.5658 - val_acc: 0.2700\n",
            "Epoch 9/15\n",
            " - 106s - loss: 1.5720 - acc: 0.2470 - val_loss: 1.5667 - val_acc: 0.2700\n",
            "Epoch 10/15\n",
            " - 106s - loss: 1.5690 - acc: 0.2430 - val_loss: 1.5645 - val_acc: 0.2700\n",
            "Epoch 11/15\n",
            " - 106s - loss: 1.5640 - acc: 0.2722 - val_loss: 1.5659 - val_acc: 0.2700\n",
            "Epoch 12/15\n",
            " - 106s - loss: 1.5690 - acc: 0.2392 - val_loss: 1.5666 - val_acc: 0.2700\n",
            "Epoch 13/15\n",
            " - 106s - loss: 1.5670 - acc: 0.2497 - val_loss: 1.5663 - val_acc: 0.2700\n"
          ],
          "name": "stdout"
        },
        {
          "output_type": "stream",
          "text": [
            "Epoch 14/15\n",
            " - 106s - loss: 1.5683 - acc: 0.2607 - val_loss: 1.5655 - val_acc: 0.2700\n",
            "Epoch 15/15\n",
            " - 106s - loss: 1.5636 - acc: 0.2522 - val_loss: 1.5652 - val_acc: 0.2700\n"
          ],
          "name": "stdout"
        }
      ]
    },
    {
      "metadata": {
        "id": "xPUiZ_7fMNbM",
        "colab_type": "text"
      },
      "cell_type": "markdown",
      "source": [
        "### VGG19 ###"
      ]
    },
    {
      "metadata": {
        "id": "HGZtinLcMGSk",
        "colab_type": "code",
        "colab": {
          "autoexec": {
            "startup": false,
            "wait_interval": 0
          }
        }
      },
      "cell_type": "code",
      "source": [
        "keras.applications.vgg19.VGG19(include_top=True, weights='imagenet', input_tensor=None, input_shape=None, pooling=None, classes=1000)"
      ],
      "execution_count": 0,
      "outputs": []
    },
    {
      "metadata": {
        "id": "wCndvzR7VWkQ",
        "colab_type": "text"
      },
      "cell_type": "markdown",
      "source": [
        "## 训练结果及验证 ##"
      ]
    },
    {
      "metadata": {
        "id": "jbeLPX7e4gSC",
        "colab_type": "code",
        "colab": {
          "autoexec": {
            "startup": false,
            "wait_interval": 0
          },
          "base_uri": "https://localhost:8080/",
          "height": 621
        },
        "outputId": "621ef13b-71d0-4218-af8b-98c3c157bdfd",
        "executionInfo": {
          "status": "ok",
          "timestamp": 1530256217024,
          "user_tz": -480,
          "elapsed": 19900,
          "user": {
            "displayName": "劉元坤@go.thu",
            "photoUrl": "https://lh3.googleusercontent.com/a/default-user=s128",
            "userId": "110847621451358548941"
          }
        }
      },
      "cell_type": "code",
      "source": [
        "def show_trainHistory(train_history,train,validation):\n",
        "    plt.plot(train_history.history[train])\n",
        "    plt.plot(train_history.history[validation])\n",
        "    plt.title('Train History')\n",
        "    plt.ylabel(train)\n",
        "    plt.xlabel('Epoch')\n",
        "    plt.legend(['train','validation'],loc = 'upper left')\n",
        "    plt.show()\n",
        "\n",
        "def plot_imageLablePredict(images,labels,prediction,idx,num = 10):\n",
        "    fig = plt.gcf()\n",
        "    fig.set_size_inches(12,14)\n",
        "    if num > 25:\n",
        "        num = 25\n",
        "    for i in range(0,num):\n",
        "        ax=plt.subplot(5,5, 1+i)  \n",
        "        ax.imshow(images[idx], cmap='binary')  \n",
        "        title = \"l=\" + str(labels[idx])  \n",
        "        if len(prediction) > 0:  \n",
        "            title = \"l={},p={}\".format(str(labels[idx]), str(prediction[idx]))  \n",
        "        else:  \n",
        "            title = \"l={}\".format(str(labels[idx]))  \n",
        "        ax.set_title(title, fontsize=10)  \n",
        "        ax.set_xticks([]); ax.set_yticks([])  \n",
        "        idx+=1  \n",
        "    plt.show()\n",
        "\n",
        "show_trainHistory(train_history, 'acc', 'val_acc')\n",
        "show_trainHistory(train_history, 'loss', 'val_loss')\n",
        "\n",
        "scores = model.evaluate(train4d_norm, train_oneHot)  \n",
        "print()  \n",
        "print(\"\\t[Info] Accuracy of testing data = {:2.1f}%\".format(scores[1]*100.0))"
      ],
      "execution_count": 26,
      "outputs": [
        {
          "output_type": "display_data",
          "data": {
            "image/png": "[encoded data removed]",
            "text/plain": [
              "<matplotlib.figure.Figure at 0x7f0457520d68>"
            ]
          },
          "metadata": {
            "tags": []
          }
        },
        {
          "output_type": "display_data",
          "data": {
            "image/png": "[encoded data removed]",
            "text/plain": [
              "<matplotlib.figure.Figure at 0x7f04574b4320>"
            ]
          },
          "metadata": {
            "tags": []
          }
        },
        {
          "output_type": "stream",
          "text": [
            "5000/5000 [==============================] - 19s 4ms/step\n",
            "\n",
            "\t[Info] Accuracy of testing data = 27.0%\n"
          ],
          "name": "stdout"
        }
      ]
    },
    {
      "metadata": {
        "id": "90OtTl9b4uXL",
        "colab_type": "code",
        "colab": {
          "autoexec": {
            "startup": false,
            "wait_interval": 0
          },
          "base_uri": "https://localhost:8080/",
          "height": 101
        },
        "outputId": "5b18395f-a45e-4b78-8d29-7aecfb062fcf",
        "executionInfo": {
          "status": "ok",
          "timestamp": 1530244882622,
          "user_tz": -480,
          "elapsed": 14209,
          "user": {
            "displayName": "劉元坤@go.thu",
            "photoUrl": "https://lh3.googleusercontent.com/a/default-user=s128",
            "userId": "110847621451358548941"
          }
        }
      },
      "cell_type": "code",
      "source": [
        "print(test4d_norm.shape)\n",
        "print(\"\\t[Info] Making prediction of test4d_norm\")  \n",
        "prediction = model.predict_classes(test4d_norm)  # Making prediction and save result to prediction  \n",
        "print()  \n",
        "print(prediction.shape)\n",
        "with open('drive/ML/output.csv', 'w', newline='') as csvfile:\n",
        "    writer = csv.writer(csvfile,delimiter = ',')\n",
        "    writer.writerow(['id','age'])\n",
        "    count = 1\n",
        "    for i in prediction:\n",
        "        writer.writerow([count,i])\n",
        "        count += 1\n",
        "    print(\"output.csv_Done\")"
      ],
      "execution_count": 20,
      "outputs": [
        {
          "output_type": "stream",
          "text": [
            "(10896, 100, 100, 1)\n",
            "\t[Info] Making prediction of test4d_norm\n",
            "\n",
            "(10896,)\n",
            "output.csv_Done\n"
          ],
          "name": "stdout"
        }
      ]
    }
  ]
}